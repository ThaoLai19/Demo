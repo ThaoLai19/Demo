{
  "nbformat": 4,
  "nbformat_minor": 0,
  "metadata": {
    "colab": {
      "provenance": [],
      "authorship_tag": "ABX9TyPg5HqRbEMC8EvFRHNl0HEQ",
      "include_colab_link": true
    },
    "kernelspec": {
      "name": "python3",
      "display_name": "Python 3"
    },
    "language_info": {
      "name": "python"
    }
  },
  "cells": [
    {
      "cell_type": "markdown",
      "metadata": {
        "id": "view-in-github",
        "colab_type": "text"
      },
      "source": [
        "<a href=\"https://colab.research.google.com/github/ThaoLai19/BWH2-Particle-Systems/blob/main/Processing%20DSA/imgtodf.ipynb\" target=\"_parent\"><img src=\"https://colab.research.google.com/assets/colab-badge.svg\" alt=\"Open In Colab\"/></a>"
      ]
    },
    {
      "cell_type": "markdown",
      "source": [
        "Open Colab and upload the image from the left part of Colab. Rename the image to a.jpg. Then run the script. The distance_field.png should be created in the File Browser section, if you do not see it refresh the file section and you should be able to see it.\n"
      ],
      "metadata": {
        "id": "7AcSmaSoDipt"
      }
    },
    {
      "cell_type": "code",
      "source": [
        "import numpy as np\n",
        "import json\n",
        "from scipy.ndimage import distance_transform_edt\n",
        "import matplotlib.pyplot as plt\n",
        "from skimage.morphology import medial_axis\n",
        "from skimage.util import invert\n",
        "from skimage.color import rgb2gray, rgba2rgb\n"
      ],
      "metadata": {
        "id": "WRS886Xp8kgi"
      },
      "execution_count": null,
      "outputs": []
    },
    {
      "cell_type": "code",
      "source": [
        "# Load image and convert to binary\n",
        "skeletonImage = plt.imread('a.jpg')\n",
        "binaryImage = invert(rgb2gray(skeletonImage)) > 0.5\n",
        "plt.imshow(binaryImage)\n"
      ],
      "metadata": {
        "id": "m3kCVbPr8yRR"
      },
      "execution_count": null,
      "outputs": []
    },
    {
      "cell_type": "code",
      "source": [
        "# Generate the distance field\n",
        "distanceField = distance_transform_edt(binaryImage)\n",
        "plt.imshow(distanceField)"
      ],
      "metadata": {
        "id": "abZNuRxY9NNZ"
      },
      "execution_count": null,
      "outputs": []
    },
    {
      "cell_type": "code",
      "source": [
        "# Normalize distance field to range [0,1]\n",
        "distanceField /= distanceField.max()\n",
        "plt.imshow(distanceField)\n"
      ],
      "metadata": {
        "id": "GypWhG9a9aYV"
      },
      "execution_count": null,
      "outputs": []
    },
    {
      "cell_type": "code",
      "source": [
        "# Save the distance field as a JSON file\n",
        "distanceFieldData = distanceField.tolist()\n",
        "with open('distance_field.json', 'w') as f:\n",
        "    json.dump(distanceFieldData, f)\n",
        "\n",
        "# Display the distance field\n",
        "plt.imshow(distanceField, cmap='gray')\n",
        "plt.show()\n",
        "# Save the distance field as PNG\n",
        "plt.imsave('distance_field.png', distanceField, cmap='gray')\n"
      ],
      "metadata": {
        "id": "eZa-1OzhCMht"
      },
      "execution_count": null,
      "outputs": []
    }
  ]
}