{
  "nbformat": 4,
  "nbformat_minor": 0,
  "metadata": {
    "colab": {
      "provenance": [],
      "authorship_tag": "ABX9TyPcWvzH42TszNlUpRZuQy2C",
      "include_colab_link": true
    },
    "kernelspec": {
      "name": "python3",
      "display_name": "Python 3"
    },
    "language_info": {
      "name": "python"
    }
  },
  "cells": [
    {
      "cell_type": "markdown",
      "metadata": {
        "id": "view-in-github",
        "colab_type": "text"
      },
      "source": [
        "<a href=\"https://colab.research.google.com/github/ThaoLai19/BWH2-Particle-Systems/blob/main/Processing%20DSA/imgtodf.ipynb\" target=\"_parent\"><img src=\"https://colab.research.google.com/assets/colab-badge.svg\" alt=\"Open In Colab\"/></a>"
      ]
    },
    {
      "cell_type": "markdown",
      "source": [
        "Open Colab and upload the image from the left part of Colab. Rename the image to a.jpg. Then run the script. The distance_field.png should be created in the File Browser section, if you do not see it refresh the file section and you should be able to see it.\n"
      ],
      "metadata": {
        "id": "7AcSmaSoDipt"
      }
    },
    {
      "cell_type": "code",
      "source": [
        "!pip install diplib\n",
        "import diplib as dip\n",
        "import cv2\n",
        "import numpy as np\n",
        "import json\n",
        "from scipy.ndimage import distance_transform_edt\n",
        "import matplotlib.pyplot as plt\n",
        "from skimage.morphology import medial_axis\n",
        "from skimage.util import invert\n",
        "from skimage.color import rgb2gray, rgba2rgb\n",
        "dip.ReverseDimensions()\n"
      ],
      "metadata": {
        "id": "WRS886Xp8kgi"
      },
      "execution_count": null,
      "outputs": []
    },
    {
      "cell_type": "code",
      "source": [
        "# Load image and convert to binary\n",
        "skeletonImage = plt.imread('a.jpg')\n",
        "binaryImage = invert(rgb2gray(skeletonImage)) > 0.5\n",
        "plt.imshow(binaryImage)\n"
      ],
      "metadata": {
        "id": "m3kCVbPr8yRR"
      },
      "execution_count": null,
      "outputs": []
    },
    {
      "cell_type": "code",
      "source": [
        "# Generate the distance field\n",
        "distanceField = distance_transform_edt(binaryImage)\n",
        "plt.imshow(distanceField)"
      ],
      "metadata": {
        "id": "abZNuRxY9NNZ"
      },
      "execution_count": null,
      "outputs": []
    },
    {
      "cell_type": "code",
      "source": [
        "# Normalize distance field to range [0,1]\n",
        "distanceField /= distanceField.max()\n",
        "plt.imshow(distanceField)\n"
      ],
      "metadata": {
        "id": "GypWhG9a9aYV"
      },
      "execution_count": null,
      "outputs": []
    },
    {
      "cell_type": "code",
      "source": [
        "# This calculation of the Structure Tensor is based on the process shown here:\n",
        "# https://www.crisluengo.net/archives/1132/\n",
        "\n",
        "# create an image usable by the PyDIP library\n",
        "img = dip.Image(distanceField)\n",
        "# compute the gradient of the image\n",
        "g = dip.Gradient(img)\n",
        "# multiply the image by its own transpose\n",
        "S = g @ dip.Transpose(g)\n",
        "S = dip.Gauss(S, 3)\n",
        "dip.TileTensorElements(S).Show()\n",
        "\n",
        "# calculate the Structure Tensor of the image\n",
        "S = dip.StructureTensor(img, tensorSigmas=3)\n",
        "S.Show()\n",
        "\n",
        "# Calculate the normal vectors for each pixel in the image\n",
        "normals = dip.LargestEigenvector(S)\n",
        "normals.Show()"
      ],
      "metadata": {
        "id": "-5GN-ljtusXZ"
      },
      "execution_count": null,
      "outputs": []
    },
    {
      "cell_type": "code",
      "source": [
        "# read image to get its dimensions\n",
        "img2 = cv2.imread('a.jpg', cv2.IMREAD_UNCHANGED)\n",
        " \n",
        "# get the height and width of the image\n",
        "height = img2.shape[0]\n",
        "width = img2.shape[1]\n",
        "\n",
        "# a is a 3D array that stores the normal vector for each pixel in the image\n",
        "a = np.empty([height,width,2])\n",
        "index = 0\n",
        "for y in range(width):\n",
        "  for x in range(height):\n",
        "    #print(normals[index])\n",
        "    a[x][y][0] = normals[index][0]\n",
        "    a[x][y][1] = normals[index][1]\n",
        "    #print(arr[x][y])\n",
        "    index += 1"
      ],
      "metadata": {
        "id": "WH1n8qU0us54"
      },
      "execution_count": null,
      "outputs": []
    },
    {
      "cell_type": "code",
      "source": [
        "# convert a into a list for exporting it into a JSON file\n",
        "aData = a.tolist()\n",
        "# export the list of normal vectors as a JSON file\n",
        "with open('gradient.json', 'w') as f:\n",
        "    json.dump(aData, f)"
      ],
      "metadata": {
        "id": "UazlAdUYutHN"
      },
      "execution_count": null,
      "outputs": []
    },
    {
      "cell_type": "code",
      "source": [
        "# Save the distance field as a JSON file\n",
        "distanceFieldData = distanceField.tolist()\n",
        "with open('distance_field.json', 'w') as f:\n",
        "    json.dump(distanceFieldData, f)\n",
        "\n",
        "# Display the distance field\n",
        "plt.imshow(distanceField, cmap='gray')\n",
        "plt.show()\n",
        "# Save the distance field as PNG\n",
        "plt.imsave('distance_field.png', distanceField, cmap='gray')\n"
      ],
      "metadata": {
        "id": "eZa-1OzhCMht"
      },
      "execution_count": null,
      "outputs": []
    }
  ]
}
